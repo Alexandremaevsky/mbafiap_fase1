{
 "cells": [
  {
   "cell_type": "code",
   "execution_count": 1,
   "metadata": {},
   "outputs": [],
   "source": [
    "import os\n",
    "import shutil"
   ]
  },
  {
   "cell_type": "code",
   "execution_count": 2,
   "metadata": {},
   "outputs": [
    {
     "ename": "SyntaxError",
     "evalue": "invalid syntax (<ipython-input-2-50172098ecc1>, line 1)",
     "output_type": "error",
     "traceback": [
      "\u001b[0;36m  File \u001b[0;32m\"<ipython-input-2-50172098ecc1>\"\u001b[0;36m, line \u001b[0;32m1\u001b[0m\n\u001b[0;31m    hadoop fs -ls /\u001b[0m\n\u001b[0m            ^\u001b[0m\n\u001b[0;31mSyntaxError\u001b[0m\u001b[0;31m:\u001b[0m invalid syntax\n"
     ]
    }
   ],
   "source": [
    "hadoop fs -ls /"
   ]
  },
  {
   "cell_type": "code",
   "execution_count": 3,
   "metadata": {},
   "outputs": [
    {
     "name": "stdout",
     "output_type": "stream",
     "text": [
      "Found 4 items\r\n",
      "drwxr-xr-x   - root supergroup          0 2022-11-08 19:15 /Dados\r\n",
      "drwxr-xr-x   - root supergroup          0 2022-11-11 20:43 /hbase\r\n",
      "drwxrwxr-x   - root supergroup          0 2022-11-07 15:26 /tmp\r\n",
      "drwxr-xr-x   - root supergroup          0 2022-11-07 15:29 /user\r\n"
     ]
    }
   ],
   "source": [
    "! hadoop fs -ls /"
   ]
  },
  {
   "cell_type": "code",
   "execution_count": 4,
   "metadata": {},
   "outputs": [],
   "source": [
    "! hadoop fs -mkdir /datalake\n",
    "! hadoop fs -mkdir /datalake/olist\n",
    "! hadoop fs -mkdir /datalake/olist/raw\n",
    "! hadoop fs -mkdir /datalake/olist/raw/csv\n",
    "! hadoop fs -mkdir /datalake/olist/cleansed\n",
    "! hadoop fs -mkdir /datalake/olist/enriched\n",
    "! hadoop fs -mkdir /datalake/olist/consumption\n",
    "! hadoop fs -mkdir /datalake/olist/sandbox\n",
    "! hadoop fs -mkdir /datalake/olist/experiment\n",
    "! hadoop fs -mkdir /datalake/olist/trusted"
   ]
  },
  {
   "cell_type": "code",
   "execution_count": 5,
   "metadata": {},
   "outputs": [
    {
     "name": "stdout",
     "output_type": "stream",
     "text": [
      "Found 5 items\r\n",
      "drwxr-xr-x   - root supergroup          0 2022-11-08 19:15 /Dados\r\n",
      "drwxr-xr-x   - root supergroup          0 2022-11-11 20:54 /datalake\r\n",
      "drwxr-xr-x   - root supergroup          0 2022-11-11 20:43 /hbase\r\n",
      "drwxrwxr-x   - root supergroup          0 2022-11-07 15:26 /tmp\r\n",
      "drwxr-xr-x   - root supergroup          0 2022-11-07 15:29 /user\r\n"
     ]
    }
   ],
   "source": [
    "! hadoop fs -ls /"
   ]
  },
  {
   "cell_type": "code",
   "execution_count": 6,
   "metadata": {},
   "outputs": [
    {
     "name": "stdout",
     "output_type": "stream",
     "text": [
      "Found 7 items\r\n",
      "drwxr-xr-x   - root supergroup          0 2022-11-11 20:55 /datalake/olist/cleansed\r\n",
      "drwxr-xr-x   - root supergroup          0 2022-11-11 20:55 /datalake/olist/consumption\r\n",
      "drwxr-xr-x   - root supergroup          0 2022-11-11 20:55 /datalake/olist/enriched\r\n",
      "drwxr-xr-x   - root supergroup          0 2022-11-11 20:55 /datalake/olist/experiment\r\n",
      "drwxr-xr-x   - root supergroup          0 2022-11-11 20:55 /datalake/olist/raw\r\n",
      "drwxr-xr-x   - root supergroup          0 2022-11-11 20:55 /datalake/olist/sandbox\r\n",
      "drwxr-xr-x   - root supergroup          0 2022-11-11 20:55 /datalake/olist/trusted\r\n"
     ]
    }
   ],
   "source": [
    "! hadoop fs -ls /datalake/olist"
   ]
  },
  {
   "cell_type": "code",
   "execution_count": null,
   "metadata": {},
   "outputs": [],
   "source": []
  }
 ],
 "metadata": {
  "kernelspec": {
   "display_name": "Python 3",
   "language": "python",
   "name": "python3"
  },
  "language_info": {
   "codemirror_mode": {
    "name": "ipython",
    "version": 3
   },
   "file_extension": ".py",
   "mimetype": "text/x-python",
   "name": "python",
   "nbconvert_exporter": "python",
   "pygments_lexer": "ipython3",
   "version": "3.6.10"
  }
 },
 "nbformat": 4,
 "nbformat_minor": 2
}
