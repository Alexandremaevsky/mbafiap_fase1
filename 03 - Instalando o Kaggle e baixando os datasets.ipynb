{
 "cells": [
  {
   "cell_type": "markdown",
   "metadata": {},
   "source": [
    "1 - Instalando o Kaggle e baixando o Arquivo de credenciais do Kaggle\n",
    "\n",
    "Vá até o site do Kaggle e crie sua conta.\n",
    "https://www.kaggle.com. Em seguida, vá para a aba Account do seu perfil de usuário e selecione Create API Token.\n",
    "\n",
    "Isso fará o download de kaggle.json, um arquivo que contém suas credenciais de API.\n",
    "\n",
    "Salve o arquivo na pasta /mnt/notebooks"
   ]
  },
  {
   "cell_type": "code",
   "execution_count": 4,
   "metadata": {
    "scrolled": false
   },
   "outputs": [
    {
     "name": "stdout",
     "output_type": "stream",
     "text": [
      "Requirement already satisfied: kaggle in /opt/anaconda3/lib/python3.6/site-packages (1.5.12)\n",
      "Requirement already satisfied: python-slugify in /opt/anaconda3/lib/python3.6/site-packages (from kaggle) (6.1.2)\n",
      "Requirement already satisfied: six>=1.10 in /opt/anaconda3/lib/python3.6/site-packages (from kaggle) (1.14.0)\n",
      "Requirement already satisfied: certifi in /opt/anaconda3/lib/python3.6/site-packages (from kaggle) (2019.11.28)\n",
      "Requirement already satisfied: python-dateutil in /opt/anaconda3/lib/python3.6/site-packages (from kaggle) (2.8.1)\n",
      "Requirement already satisfied: tqdm in /opt/anaconda3/lib/python3.6/site-packages (from kaggle) (4.64.1)\n",
      "Requirement already satisfied: requests in /opt/anaconda3/lib/python3.6/site-packages (from kaggle) (2.18.4)\n",
      "Requirement already satisfied: urllib3 in /opt/anaconda3/lib/python3.6/site-packages (from kaggle) (1.22)\n",
      "Requirement already satisfied: text-unidecode>=1.3 in /opt/anaconda3/lib/python3.6/site-packages (from python-slugify->kaggle) (1.3)\n",
      "Requirement already satisfied: importlib-resources; python_version < \"3.7\" in /opt/anaconda3/lib/python3.6/site-packages (from tqdm->kaggle) (5.4.0)\n",
      "Requirement already satisfied: chardet<3.1.0,>=3.0.2 in /opt/anaconda3/lib/python3.6/site-packages (from requests->kaggle) (3.0.4)\n",
      "Requirement already satisfied: idna<2.7,>=2.5 in /opt/anaconda3/lib/python3.6/site-packages (from requests->kaggle) (2.6)\n",
      "Requirement already satisfied: zipp>=3.1.0; python_version < \"3.10\" in /opt/anaconda3/lib/python3.6/site-packages (from importlib-resources; python_version < \"3.7\"->tqdm->kaggle) (3.6.0)\n"
     ]
    }
   ],
   "source": [
    "! pip install kaggle"
   ]
  },
  {
   "cell_type": "markdown",
   "metadata": {},
   "source": [
    "2 -Download dos datasets do olist para disco local"
   ]
  },
  {
   "cell_type": "code",
   "execution_count": 5,
   "metadata": {},
   "outputs": [],
   "source": [
    "import os\n",
    "import shutil"
   ]
  },
  {
   "cell_type": "code",
   "execution_count": 2,
   "metadata": {},
   "outputs": [
    {
     "data": {
      "text/plain": [
       "'/root/.kaggle'"
      ]
     },
     "execution_count": 2,
     "metadata": {},
     "output_type": "execute_result"
    }
   ],
   "source": [
    "if not os.path.exists(r'/root/.kaggle'):\n",
    "    os.makedirs(r'/root/.kaggle')\n",
    "    \n",
    "os.chdir(r'/root/.kaggle') \n",
    "    \n",
    "os.getcwd()"
   ]
  },
  {
   "cell_type": "code",
   "execution_count": 9,
   "metadata": {},
   "outputs": [
    {
     "data": {
      "text/plain": [
       "'/mnt/notebooks'"
      ]
     },
     "execution_count": 9,
     "metadata": {},
     "output_type": "execute_result"
    }
   ],
   "source": [
    "os.chdir(r'/mnt/notebooks') \n",
    "\n",
    "os.getcwd()"
   ]
  },
  {
   "cell_type": "code",
   "execution_count": 12,
   "metadata": {},
   "outputs": [],
   "source": [
    "if not os.path.exists(r'/mnt/notebooks/grupob'):\n",
    "    os.makedirs(r'/mnt/notebooks/grupob') \n",
    "    os.makedirs(r'/mnt/notebooks/grupob/olist') "
   ]
  },
  {
   "cell_type": "code",
   "execution_count": 17,
   "metadata": {},
   "outputs": [
    {
     "data": {
      "text/plain": [
       "'/root/.kaggle'"
      ]
     },
     "execution_count": 17,
     "metadata": {},
     "output_type": "execute_result"
    }
   ],
   "source": [
    "os.chdir(r'/mnt/notebooks') \n",
    "\n",
    "shutil.copy('kaggle.json', '/root/.kaggle/')\n",
    "\n",
    "os.chdir(r'/root/.kaggle')\n",
    "\n",
    "os.getcwd()\n"
   ]
  },
  {
   "cell_type": "code",
   "execution_count": 18,
   "metadata": {},
   "outputs": [],
   "source": [
    "if not os.path.exists(r'/mnt/notebooks/grupob'):\n",
    "    os.makedirs(r'/mnt/notebooks/grupob') \n",
    "    os.makedirs(r'/mnt/notebooks/grupob/olist') "
   ]
  },
  {
   "cell_type": "code",
   "execution_count": 19,
   "metadata": {},
   "outputs": [
    {
     "data": {
      "text/plain": [
       "'/mnt/notebooks/grupob/olist'"
      ]
     },
     "execution_count": 19,
     "metadata": {},
     "output_type": "execute_result"
    }
   ],
   "source": [
    "os.chdir(r'/mnt/notebooks/grupob/olist') \n",
    "\n",
    "os.getcwd()"
   ]
  },
  {
   "cell_type": "code",
   "execution_count": 21,
   "metadata": {},
   "outputs": [
    {
     "name": "stdout",
     "output_type": "stream",
     "text": [
      "Warning: Your Kaggle API key is readable by other users on this system! To fix this, you can run 'chmod 600 /root/.kaggle/kaggle.json'\n",
      "Downloading brazilian-ecommerce.zip to /mnt/notebooks/grupob/olist\n",
      " 98%|█████████████████████████████████████▍| 42.0M/42.6M [00:04<00:00, 12.8MB/s]\n",
      "100%|██████████████████████████████████████| 42.6M/42.6M [00:04<00:00, 11.0MB/s]\n"
     ]
    }
   ],
   "source": [
    "! kaggle datasets download -d olistbr/brazilian-ecommerce"
   ]
  },
  {
   "cell_type": "code",
   "execution_count": 23,
   "metadata": {},
   "outputs": [],
   "source": [
    "import zipfile\n",
    "with zipfile.ZipFile(\"/mnt/notebooks/grupob/olist/brazilian-ecommerce.zip\", 'r') as zip_ref:\n",
    "    zip_ref.extractall('/mnt/notebooks/grupob/olist')"
   ]
  },
  {
   "cell_type": "markdown",
   "metadata": {},
   "source": [
    "3- Verificando se os datasets foram baixandos para a pasta"
   ]
  },
  {
   "cell_type": "code",
   "execution_count": 24,
   "metadata": {},
   "outputs": [
    {
     "name": "stdout",
     "output_type": "stream",
     "text": [
      "olist_customers_dataset.csv\t  olist_orders_dataset.csv\r\n",
      "olist_geolocation_dataset.csv\t  olist_products_dataset.csv\r\n",
      "olist_order_items_dataset.csv\t  olist_sellers_dataset.csv\r\n",
      "olist_order_payments_dataset.csv  product_category_name_translation.csv\r\n",
      "olist_order_reviews_dataset.csv\r\n"
     ]
    }
   ],
   "source": [
    "os.chdir(r'/mnt/notebooks/grupob/olist') \n",
    "\n",
    "! rm -f *.zip\n",
    "\n",
    "! ls /mnt/notebooks/grupob/olist"
   ]
  },
  {
   "cell_type": "markdown",
   "metadata": {},
   "source": [
    "4- Copiar para o HDFS os datasets e listar"
   ]
  },
  {
   "cell_type": "code",
   "execution_count": 25,
   "metadata": {},
   "outputs": [
    {
     "name": "stdout",
     "output_type": "stream",
     "text": [
      "Found 9 items\r\n",
      "-rw-r--r--   2 root supergroup    9033957 2022-11-12 16:21 /datalake/olist/raw/csv/olist_customers_dataset.csv\r\n",
      "-rw-r--r--   2 root supergroup   61273883 2022-11-12 16:21 /datalake/olist/raw/csv/olist_geolocation_dataset.csv\r\n",
      "-rw-r--r--   2 root supergroup   15438671 2022-11-12 16:21 /datalake/olist/raw/csv/olist_order_items_dataset.csv\r\n",
      "-rw-r--r--   2 root supergroup    5777138 2022-11-12 16:21 /datalake/olist/raw/csv/olist_order_payments_dataset.csv\r\n",
      "-rw-r--r--   2 root supergroup   14451670 2022-11-12 16:21 /datalake/olist/raw/csv/olist_order_reviews_dataset.csv\r\n",
      "-rw-r--r--   2 root supergroup   17654914 2022-11-12 16:21 /datalake/olist/raw/csv/olist_orders_dataset.csv\r\n",
      "-rw-r--r--   2 root supergroup    2379446 2022-11-12 16:21 /datalake/olist/raw/csv/olist_products_dataset.csv\r\n",
      "-rw-r--r--   2 root supergroup     174703 2022-11-12 16:21 /datalake/olist/raw/csv/olist_sellers_dataset.csv\r\n",
      "-rw-r--r--   2 root supergroup       2613 2022-11-12 16:21 /datalake/olist/raw/csv/product_category_name_translation.csv\r\n"
     ]
    }
   ],
   "source": [
    "! hadoop fs -put * /datalake/olist/raw/csv\n",
    "\n",
    "! hadoop fs -ls /datalake/olist/raw/csv"
   ]
  },
  {
   "cell_type": "code",
   "execution_count": null,
   "metadata": {},
   "outputs": [],
   "source": []
  },
  {
   "cell_type": "code",
   "execution_count": null,
   "metadata": {},
   "outputs": [],
   "source": []
  }
 ],
 "metadata": {
  "kernelspec": {
   "display_name": "Python 3",
   "language": "python",
   "name": "python3"
  },
  "language_info": {
   "codemirror_mode": {
    "name": "ipython",
    "version": 3
   },
   "file_extension": ".py",
   "mimetype": "text/x-python",
   "name": "python",
   "nbconvert_exporter": "python",
   "pygments_lexer": "ipython3",
   "version": "3.6.10"
  }
 },
 "nbformat": 4,
 "nbformat_minor": 2
}
